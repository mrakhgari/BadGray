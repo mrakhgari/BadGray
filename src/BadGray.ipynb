{
 "cells": [
  {
   "cell_type": "markdown",
   "id": "c91f3298",
   "metadata": {},
   "source": [
    "# BadGray\n",
    "An automatic colorization functionality for Real-Time User-Guided Image Colorization with Neural Net Model.\n",
    "\n",
    "**This program is based on: [Colorful Image Colorization](https://github.com/richzhang/colorization) and [OpenCV](https://docs.opencv.org/3.4/d6/d39/samples_2dnn_2colorization_8cpp-example.html#a16).**\n"
   ]
  },
  {
   "cell_type": "markdown",
   "id": "5fd7ddf6",
   "metadata": {},
   "source": [
    "## Imports"
   ]
  },
  {
   "cell_type": "code",
   "execution_count": 17,
   "id": "5554cb82",
   "metadata": {},
   "outputs": [],
   "source": [
    "import cv2\n",
    "import numpy as np \n",
    "import matplotlib.pyplot as plt"
   ]
  },
  {
   "cell_type": "markdown",
   "id": "d5779e58",
   "metadata": {},
   "source": [
    "## Load Models\n",
    "To Run the code you need to download the Caffe model and Prototxt files:\n",
    "- [caffemodel](http://eecs.berkeley.edu/~rich.zhang/projects/2016_colorization/files/demo_v2/colorization_release_v2.caffemodel),\n",
    "- [prototxt](https://raw.githubusercontent.com/richzhang/colorization/caffe/models/colorization_deploy_v2.prototxt).\n",
    "\n",
    "Also, you need to download the 313 ab cluster centers from pts_in_hull.npy. You can find it, [here](https://raw.githubusercontent.com/richzhang/colorization/caffe/resources/pts_in_hull.npy).\n",
    "\n",
    "After downloading the files, you should put them in the [Models](./Models) folder."
   ]
  },
  {
   "cell_type": "code",
   "execution_count": 18,
   "id": "833c8c95",
   "metadata": {},
   "outputs": [],
   "source": [
    "#--------Model file paths--------#\n",
    "proto_file = 'Model/colorization_deploy_v2.prototxt'\n",
    "model_file = 'Model/colorization_release_v2.caffemodel'\n",
    "hull_pts = 'Model/pts_in_hull.npy'"
   ]
  },
  {
   "cell_type": "code",
   "execution_count": null,
   "id": "c0b8bed5",
   "metadata": {},
   "outputs": [],
   "source": []
  }
 ],
 "metadata": {
  "kernelspec": {
   "display_name": "Python 3 (ipykernel)",
   "language": "python",
   "name": "python3"
  },
  "language_info": {
   "codemirror_mode": {
    "name": "ipython",
    "version": 3
   },
   "file_extension": ".py",
   "mimetype": "text/x-python",
   "name": "python",
   "nbconvert_exporter": "python",
   "pygments_lexer": "ipython3",
   "version": "3.10.1"
  }
 },
 "nbformat": 4,
 "nbformat_minor": 5
}
